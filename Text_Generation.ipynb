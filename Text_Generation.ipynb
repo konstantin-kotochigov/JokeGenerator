{
 "cells": [
  {
   "cell_type": "code",
   "execution_count": 167,
   "metadata": {},
   "outputs": [],
   "source": [
    "import numpy\n",
    "import sys\n",
    "from tqdm import tqdm\n",
    "import re\n",
    "import pickle\n",
    "from keras.utils import np_utils\n",
    "from keras.models import Sequential\n",
    "from keras.layers import LSTM, Embedding, Input\n",
    "from keras.layers import Dropout\n",
    "from keras.layers import Dense"
   ]
  },
  {
   "cell_type": "markdown",
   "metadata": {},
   "source": [
    "Данные - выборка из 1млн русских анекдотов"
   ]
  },
  {
   "cell_type": "code",
   "execution_count": 58,
   "metadata": {},
   "outputs": [],
   "source": [
    "raw_text = open(\"/srv/kkotochigov/JokeGenerator/data/jokes\").read()"
   ]
  },
  {
   "cell_type": "markdown",
   "metadata": {},
   "source": [
    "Переводим в нижний регистр, оставляем русские буквы, цифры и некоторую пунктуацию. Так как данные замусоренные, это сокращает словарь с 200 до до 50 символов."
   ]
  },
  {
   "cell_type": "code",
   "execution_count": 59,
   "metadata": {},
   "outputs": [],
   "source": [
    "raw_text = raw_text.replace(\"\\\\\\n\",\" \").replace(\"\\n###\",\"\\n\").lower().replace('\"','').replace('\\\\','')\n",
    "raw_text = re.sub('[^\\-0-9_а-я:,.\\\\!\\\\?\\\\n]', ' ', raw_text).replace('  ',' ').replace('   ',' ').replace('    ',' ')"
   ]
  },
  {
   "cell_type": "markdown",
   "metadata": {},
   "source": [
    "### Делаем словарь символов для кодировки"
   ]
  },
  {
   "cell_type": "code",
   "execution_count": 60,
   "metadata": {},
   "outputs": [],
   "source": [
    "chars = sorted(list(set(raw_text)))\n",
    "char_to_int = dict((c, i) for i, c in enumerate(chars))\n",
    "int_to_char = dict((i, c) for i, c in enumerate(chars))\n",
    "with open(\"/srv/kkotochigov/char_mapper.pickle\",\"wb\") as file_handle:\n",
    "        pickle.dump((char_to_int, int_to_char), file_handle)\n",
    "n_chars = len(raw_text)\n",
    "n_vocab = len(chars)"
   ]
  },
  {
   "cell_type": "code",
   "execution_count": null,
   "metadata": {},
   "outputs": [],
   "source": [
    "seq_length = 30\n",
    "dataX=[]\n",
    "dataY=[]"
   ]
  },
  {
   "cell_type": "code",
   "execution_count": null,
   "metadata": {},
   "outputs": [],
   "source": [
    "# with open(\"/srv/kkotochigov/char_mapper.pickle\",\"r\") as file_handle:\n",
    "#     char_to_int1, int_to_char1 = pickle.load(file_hadle)\n",
    "\n",
    "# n_chars = len(raw_text)\n",
    "# n_vocab = len(chars)\n",
    "\n",
    "# seq_length = 30\n",
    "# dataX=[]\n",
    "# dataY=[]"
   ]
  },
  {
   "cell_type": "code",
   "execution_count": 175,
   "metadata": {},
   "outputs": [],
   "source": []
  },
  {
   "cell_type": "markdown",
   "metadata": {},
   "source": [
    "Нарезаем текст на кейсы скользящим окном (размером seq_length)\n",
    "\n",
    "Пример такого кейса [125,0,7,15,2] => 250"
   ]
  },
  {
   "cell_type": "code",
   "execution_count": 61,
   "metadata": {},
   "outputs": [
    {
     "name": "stderr",
     "output_type": "stream",
     "text": [
      "100%|██████████| 192591/192591 [01:10<00:00, 2744.21 strings/s]"
     ]
    },
    {
     "name": "stdout",
     "output_type": "stream",
     "text": [
      "Total patterns:18225940\n"
     ]
    },
    {
     "name": "stderr",
     "output_type": "stream",
     "text": [
      "\n"
     ]
    }
   ],
   "source": [
    "for line in tqdm(raw_text.split(\"\\n\"), total=len(raw_text.split(\"\\n\")), unit=\" strings\"):\n",
    "    full_line = line + '\\n'\n",
    "    for i in range(0,len(full_line) - seq_length):\n",
    "        seq_in = full_line[i:i+seq_length]\n",
    "        seq_out = full_line[i+seq_length]\n",
    "        dataX.append([char_to_int[c] for c in seq_in])\n",
    "        dataY.append(char_to_int[seq_out])\n",
    "n_patterns = len(dataX)\n",
    "print (\"Total patterns:\" + str(n_patterns))"
   ]
  },
  {
   "cell_type": "markdown",
   "metadata": {},
   "source": [
    "Нормализуем все закодированные символы"
   ]
  },
  {
   "cell_type": "code",
   "execution_count": 62,
   "metadata": {},
   "outputs": [],
   "source": [
    "X = numpy.reshape(dataX, (n_patterns, seq_length, 1))\n",
    "X = X / float(n_vocab)\n",
    "y = np_utils.to_categorical(dataY)"
   ]
  },
  {
   "cell_type": "markdown",
   "metadata": {},
   "source": [
    "Создаем сеть. Изначальная Архитектура - два LSTM слоя (256) и один Dense(256 -> 1)"
   ]
  },
  {
   "cell_type": "code",
   "execution_count": 63,
   "metadata": {},
   "outputs": [],
   "source": [
    "model = Sequential()\n",
    "model.add(LSTM(256,input_shape=(X.shape[1],X.shape[2]), return_sequences=True))\n",
    "model.add(Dropout(0.2))\n",
    "model.add(LSTM(256))\n",
    "model.add(Dropout(0.2))\n",
    "model.add(Dense(y.shape[1], activation=\"softmax\"))\n",
    "model.compile(loss=\"categorical_crossentropy\", optimizer=\"adam\")"
   ]
  },
  {
   "cell_type": "markdown",
   "metadata": {},
   "source": [
    "Model with Embedding"
   ]
  },
  {
   "cell_type": "code",
   "execution_count": 56,
   "metadata": {},
   "outputs": [
    {
     "ename": "TypeError",
     "evalue": "The added layer must be an instance of class Layer. Found: Tensor(\"input_1:0\", shape=(?, 30), dtype=float32)",
     "output_type": "error",
     "traceback": [
      "\u001b[0;31m---------------------------------------------------------------------------\u001b[0m",
      "\u001b[0;31mTypeError\u001b[0m                                 Traceback (most recent call last)",
      "\u001b[0;32m<ipython-input-56-b1bb4eb6f1b1>\u001b[0m in \u001b[0;36m<module>\u001b[0;34m()\u001b[0m\n\u001b[1;32m      1\u001b[0m \u001b[0mmodel\u001b[0m \u001b[0;34m=\u001b[0m \u001b[0mSequential\u001b[0m\u001b[0;34m(\u001b[0m\u001b[0;34m)\u001b[0m\u001b[0;34m\u001b[0m\u001b[0m\n\u001b[0;32m----> 2\u001b[0;31m \u001b[0mmodel\u001b[0m\u001b[0;34m.\u001b[0m\u001b[0madd\u001b[0m\u001b[0;34m(\u001b[0m\u001b[0mInput\u001b[0m\u001b[0;34m(\u001b[0m\u001b[0mshape\u001b[0m\u001b[0;34m=\u001b[0m\u001b[0;34m(\u001b[0m\u001b[0;36m30\u001b[0m\u001b[0;34m,\u001b[0m\u001b[0;34m)\u001b[0m\u001b[0;34m)\u001b[0m\u001b[0;34m)\u001b[0m\u001b[0;34m\u001b[0m\u001b[0m\n\u001b[0m\u001b[1;32m      3\u001b[0m \u001b[0mmodel\u001b[0m\u001b[0;34m.\u001b[0m\u001b[0madd\u001b[0m\u001b[0;34m(\u001b[0m\u001b[0mEmbedding\u001b[0m\u001b[0;34m(\u001b[0m\u001b[0minput_dim\u001b[0m \u001b[0;34m=\u001b[0m \u001b[0mn_chars\u001b[0m\u001b[0;34m,\u001b[0m \u001b[0moutput_dim\u001b[0m \u001b[0;34m=\u001b[0m \u001b[0;36m256\u001b[0m\u001b[0;34m,\u001b[0m \u001b[0minput_length\u001b[0m\u001b[0;34m=\u001b[0m\u001b[0;36m30\u001b[0m\u001b[0;34m)\u001b[0m\u001b[0;34m)\u001b[0m\u001b[0;34m\u001b[0m\u001b[0m\n\u001b[1;32m      4\u001b[0m \u001b[0mmodel\u001b[0m\u001b[0;34m.\u001b[0m\u001b[0madd\u001b[0m\u001b[0;34m(\u001b[0m\u001b[0mLSTM\u001b[0m\u001b[0;34m(\u001b[0m\u001b[0;36m256\u001b[0m\u001b[0;34m,\u001b[0m\u001b[0mreturn_sequences\u001b[0m\u001b[0;34m=\u001b[0m\u001b[0;32mTrue\u001b[0m\u001b[0;34m)\u001b[0m\u001b[0;34m)\u001b[0m\u001b[0;34m\u001b[0m\u001b[0m\n\u001b[1;32m      5\u001b[0m \u001b[0mmodel\u001b[0m\u001b[0;34m.\u001b[0m\u001b[0madd\u001b[0m\u001b[0;34m(\u001b[0m\u001b[0mDropout\u001b[0m\u001b[0;34m(\u001b[0m\u001b[0;36m0.2\u001b[0m\u001b[0;34m)\u001b[0m\u001b[0;34m)\u001b[0m\u001b[0;34m\u001b[0m\u001b[0m\n",
      "\u001b[0;32m~/.local/lib/python3.5/site-packages/keras/engine/sequential.py\u001b[0m in \u001b[0;36madd\u001b[0;34m(self, layer)\u001b[0m\n\u001b[1;32m    129\u001b[0m             raise TypeError('The added layer must be '\n\u001b[1;32m    130\u001b[0m                             \u001b[0;34m'an instance of class Layer. '\u001b[0m\u001b[0;34m\u001b[0m\u001b[0m\n\u001b[0;32m--> 131\u001b[0;31m                             'Found: ' + str(layer))\n\u001b[0m\u001b[1;32m    132\u001b[0m         \u001b[0mself\u001b[0m\u001b[0;34m.\u001b[0m\u001b[0mbuilt\u001b[0m \u001b[0;34m=\u001b[0m \u001b[0;32mFalse\u001b[0m\u001b[0;34m\u001b[0m\u001b[0m\n\u001b[1;32m    133\u001b[0m         \u001b[0;32mif\u001b[0m \u001b[0;32mnot\u001b[0m \u001b[0mself\u001b[0m\u001b[0;34m.\u001b[0m\u001b[0m_layers\u001b[0m\u001b[0;34m:\u001b[0m\u001b[0;34m\u001b[0m\u001b[0m\n",
      "\u001b[0;31mTypeError\u001b[0m: The added layer must be an instance of class Layer. Found: Tensor(\"input_1:0\", shape=(?, 30), dtype=float32)"
     ]
    }
   ],
   "source": [
    "model = Sequential()\n",
    "model.add(Input(shape=(30,)))\n",
    "model.add(Embedding(input_dim = n_chars, output_dim = 256, input_length=30))\n",
    "model.add(LSTM(256,return_sequences=True))\n",
    "model.add(Dropout(0.2))\n",
    "model.add(LSTM(256))\n",
    "model.add(Dropout(0.2))\n",
    "model.add(Dense(16, activation=\"relu\"))\n",
    "model.add(Dense(y.shape[1], activation=\"softmax\"))\n",
    "model.compile(loss=\"categorical_crossentropy\", optimizer=\"adam\")"
   ]
  },
  {
   "cell_type": "markdown",
   "metadata": {},
   "source": [
    "Для тестирования нужен сэмпл, иначе на 19 млн кейсов долго будут считаться"
   ]
  },
  {
   "cell_type": "code",
   "execution_count": 64,
   "metadata": {},
   "outputs": [],
   "source": [
    "sample_size = 10000000\n",
    "import random\n",
    "import pandas\n",
    "import datetime\n",
    "sample_indices = random.sample(range(X.shape[0]),sample_size)\n",
    "X_sample = X[sample_indices, :]\n",
    "y_sample = y[sample_indices]"
   ]
  },
  {
   "cell_type": "markdown",
   "metadata": {},
   "source": [
    "Создадим несколько обработчиков.\n",
    "- CSVLogger - чтобы после закрытия было видно, что он делает\n",
    "- lambdaCallback - с выводом времени старта\n",
    "- modelCheckpoint - чтобы потом можно было подгрузить модель, если kernel упадет"
   ]
  },
  {
   "cell_type": "code",
   "execution_count": 65,
   "metadata": {},
   "outputs": [],
   "source": [
    "# Define Callbacks\n",
    "from keras.callbacks import LambdaCallback, CSVLogger, ModelCheckpoint\n",
    "lambdaCallback = LambdaCallback(on_epoch_begin = lambda epoch, logs: print(\"Epoch = {}, TS = {}\".format(epoch, datetime.datetime.now())))\n",
    "csv_logger = CSVLogger('/srv/aprosvetov/training.log')\n",
    "model_checkpoint = ModelCheckpoint('/srv/aprosvetov/model.h5')"
   ]
  },
  {
   "cell_type": "markdown",
   "metadata": {},
   "source": [
    "Так как эпохи выводятся в лог и на диск, ставлю verbose = 0. Если оставить verbose = 1, браузер начинает виснуть.\n",
    "С batch_size больше 4000 не работает."
   ]
  },
  {
   "cell_type": "code",
   "execution_count": 138,
   "metadata": {},
   "outputs": [
    {
     "name": "stdout",
     "output_type": "stream",
     "text": [
      "Epoch = 0, TS = 2019-05-08 16:11:11.615249\n"
     ]
    },
    {
     "data": {
      "text/plain": [
       "<keras.callbacks.History at 0x7f4d152ec748>"
      ]
     },
     "execution_count": 138,
     "metadata": {},
     "output_type": "execute_result"
    }
   ],
   "source": [
    "model.fit(X_sample, y_sample, epochs=1, batch_size=1024, verbose=0, callbacks = [lambdaCallback, csv_logger, model_checkpoint])"
   ]
  },
  {
   "cell_type": "markdown",
   "metadata": {},
   "source": [
    "Обучаемую Модель (50 эпох, 30 символов) созхдранил \n",
    "/srv/aprosvetov/model.h5\n",
    "\n",
    "В свою директорию прав нету из-под пользователя aprosvetov"
   ]
  },
  {
   "cell_type": "markdown",
   "metadata": {},
   "source": [
    "Сохранить модель"
   ]
  },
  {
   "cell_type": "code",
   "execution_count": 137,
   "metadata": {},
   "outputs": [
    {
     "ename": "OSError",
     "evalue": "Unable to create file (unable to open file: name = '/srv/kkotochigov/JokeGenerator/model.h5', errno = 13, error message = 'Permission denied', flags = 13, o_flags = 242)",
     "output_type": "error",
     "traceback": [
      "\u001b[0;31m---------------------------------------------------------------------------\u001b[0m",
      "\u001b[0;31mOSError\u001b[0m                                   Traceback (most recent call last)",
      "\u001b[0;32m<ipython-input-137-c2b17b2a084b>\u001b[0m in \u001b[0;36m<module>\u001b[0;34m()\u001b[0m\n\u001b[0;32m----> 1\u001b[0;31m \u001b[0mmodel\u001b[0m\u001b[0;34m.\u001b[0m\u001b[0msave\u001b[0m\u001b[0;34m(\u001b[0m\u001b[0;34m\"/srv/kkotochigov/JokeGenerator/model.h5\"\u001b[0m\u001b[0;34m)\u001b[0m\u001b[0;34m\u001b[0m\u001b[0m\n\u001b[0m",
      "\u001b[0;32m~/.local/lib/python3.5/site-packages/keras/engine/network.py\u001b[0m in \u001b[0;36msave\u001b[0;34m(self, filepath, overwrite, include_optimizer)\u001b[0m\n\u001b[1;32m   1102\u001b[0m             \u001b[0;32mraise\u001b[0m \u001b[0mNotImplementedError\u001b[0m\u001b[0;34m\u001b[0m\u001b[0m\n\u001b[1;32m   1103\u001b[0m         \u001b[0;32mfrom\u001b[0m \u001b[0;34m.\u001b[0m\u001b[0;34m.\u001b[0m\u001b[0mmodels\u001b[0m \u001b[0;32mimport\u001b[0m \u001b[0msave_model\u001b[0m\u001b[0;34m\u001b[0m\u001b[0m\n\u001b[0;32m-> 1104\u001b[0;31m         \u001b[0msave_model\u001b[0m\u001b[0;34m(\u001b[0m\u001b[0mself\u001b[0m\u001b[0;34m,\u001b[0m \u001b[0mfilepath\u001b[0m\u001b[0;34m,\u001b[0m \u001b[0moverwrite\u001b[0m\u001b[0;34m,\u001b[0m \u001b[0minclude_optimizer\u001b[0m\u001b[0;34m)\u001b[0m\u001b[0;34m\u001b[0m\u001b[0m\n\u001b[0m\u001b[1;32m   1105\u001b[0m \u001b[0;34m\u001b[0m\u001b[0m\n\u001b[1;32m   1106\u001b[0m     \u001b[0;32mdef\u001b[0m \u001b[0msave_weights\u001b[0m\u001b[0;34m(\u001b[0m\u001b[0mself\u001b[0m\u001b[0;34m,\u001b[0m \u001b[0mfilepath\u001b[0m\u001b[0;34m,\u001b[0m \u001b[0moverwrite\u001b[0m\u001b[0;34m=\u001b[0m\u001b[0;32mTrue\u001b[0m\u001b[0;34m)\u001b[0m\u001b[0;34m:\u001b[0m\u001b[0;34m\u001b[0m\u001b[0m\n",
      "\u001b[0;32m~/.local/lib/python3.5/site-packages/keras/engine/saving.py\u001b[0m in \u001b[0;36msave_model\u001b[0;34m(model, filepath, overwrite, include_optimizer)\u001b[0m\n\u001b[1;32m    104\u001b[0m                 \u001b[0;32mreturn\u001b[0m\u001b[0;34m\u001b[0m\u001b[0m\n\u001b[1;32m    105\u001b[0m \u001b[0;34m\u001b[0m\u001b[0m\n\u001b[0;32m--> 106\u001b[0;31m         \u001b[0mf\u001b[0m \u001b[0;34m=\u001b[0m \u001b[0mh5py\u001b[0m\u001b[0;34m.\u001b[0m\u001b[0mFile\u001b[0m\u001b[0;34m(\u001b[0m\u001b[0mfilepath\u001b[0m\u001b[0;34m,\u001b[0m \u001b[0mmode\u001b[0m\u001b[0;34m=\u001b[0m\u001b[0;34m'w'\u001b[0m\u001b[0;34m)\u001b[0m\u001b[0;34m\u001b[0m\u001b[0m\n\u001b[0m\u001b[1;32m    107\u001b[0m         \u001b[0mopened_new_file\u001b[0m \u001b[0;34m=\u001b[0m \u001b[0;32mTrue\u001b[0m\u001b[0;34m\u001b[0m\u001b[0m\n\u001b[1;32m    108\u001b[0m     \u001b[0;32melse\u001b[0m\u001b[0;34m:\u001b[0m\u001b[0;34m\u001b[0m\u001b[0m\n",
      "\u001b[0;32m~/.local/lib/python3.5/site-packages/h5py/_hl/files.py\u001b[0m in \u001b[0;36m__init__\u001b[0;34m(self, name, mode, driver, libver, userblock_size, swmr, **kwds)\u001b[0m\n\u001b[1;32m    310\u001b[0m             \u001b[0;32mwith\u001b[0m \u001b[0mphil\u001b[0m\u001b[0;34m:\u001b[0m\u001b[0;34m\u001b[0m\u001b[0m\n\u001b[1;32m    311\u001b[0m                 \u001b[0mfapl\u001b[0m \u001b[0;34m=\u001b[0m \u001b[0mmake_fapl\u001b[0m\u001b[0;34m(\u001b[0m\u001b[0mdriver\u001b[0m\u001b[0;34m,\u001b[0m \u001b[0mlibver\u001b[0m\u001b[0;34m,\u001b[0m \u001b[0;34m**\u001b[0m\u001b[0mkwds\u001b[0m\u001b[0;34m)\u001b[0m\u001b[0;34m\u001b[0m\u001b[0m\n\u001b[0;32m--> 312\u001b[0;31m                 \u001b[0mfid\u001b[0m \u001b[0;34m=\u001b[0m \u001b[0mmake_fid\u001b[0m\u001b[0;34m(\u001b[0m\u001b[0mname\u001b[0m\u001b[0;34m,\u001b[0m \u001b[0mmode\u001b[0m\u001b[0;34m,\u001b[0m \u001b[0muserblock_size\u001b[0m\u001b[0;34m,\u001b[0m \u001b[0mfapl\u001b[0m\u001b[0;34m,\u001b[0m \u001b[0mswmr\u001b[0m\u001b[0;34m=\u001b[0m\u001b[0mswmr\u001b[0m\u001b[0;34m)\u001b[0m\u001b[0;34m\u001b[0m\u001b[0m\n\u001b[0m\u001b[1;32m    313\u001b[0m \u001b[0;34m\u001b[0m\u001b[0m\n\u001b[1;32m    314\u001b[0m                 \u001b[0;32mif\u001b[0m \u001b[0mswmr_support\u001b[0m\u001b[0;34m:\u001b[0m\u001b[0;34m\u001b[0m\u001b[0m\n",
      "\u001b[0;32m~/.local/lib/python3.5/site-packages/h5py/_hl/files.py\u001b[0m in \u001b[0;36mmake_fid\u001b[0;34m(name, mode, userblock_size, fapl, fcpl, swmr)\u001b[0m\n\u001b[1;32m    146\u001b[0m         \u001b[0mfid\u001b[0m \u001b[0;34m=\u001b[0m \u001b[0mh5f\u001b[0m\u001b[0;34m.\u001b[0m\u001b[0mcreate\u001b[0m\u001b[0;34m(\u001b[0m\u001b[0mname\u001b[0m\u001b[0;34m,\u001b[0m \u001b[0mh5f\u001b[0m\u001b[0;34m.\u001b[0m\u001b[0mACC_EXCL\u001b[0m\u001b[0;34m,\u001b[0m \u001b[0mfapl\u001b[0m\u001b[0;34m=\u001b[0m\u001b[0mfapl\u001b[0m\u001b[0;34m,\u001b[0m \u001b[0mfcpl\u001b[0m\u001b[0;34m=\u001b[0m\u001b[0mfcpl\u001b[0m\u001b[0;34m)\u001b[0m\u001b[0;34m\u001b[0m\u001b[0m\n\u001b[1;32m    147\u001b[0m     \u001b[0;32melif\u001b[0m \u001b[0mmode\u001b[0m \u001b[0;34m==\u001b[0m \u001b[0;34m'w'\u001b[0m\u001b[0;34m:\u001b[0m\u001b[0;34m\u001b[0m\u001b[0m\n\u001b[0;32m--> 148\u001b[0;31m         \u001b[0mfid\u001b[0m \u001b[0;34m=\u001b[0m \u001b[0mh5f\u001b[0m\u001b[0;34m.\u001b[0m\u001b[0mcreate\u001b[0m\u001b[0;34m(\u001b[0m\u001b[0mname\u001b[0m\u001b[0;34m,\u001b[0m \u001b[0mh5f\u001b[0m\u001b[0;34m.\u001b[0m\u001b[0mACC_TRUNC\u001b[0m\u001b[0;34m,\u001b[0m \u001b[0mfapl\u001b[0m\u001b[0;34m=\u001b[0m\u001b[0mfapl\u001b[0m\u001b[0;34m,\u001b[0m \u001b[0mfcpl\u001b[0m\u001b[0;34m=\u001b[0m\u001b[0mfcpl\u001b[0m\u001b[0;34m)\u001b[0m\u001b[0;34m\u001b[0m\u001b[0m\n\u001b[0m\u001b[1;32m    149\u001b[0m     \u001b[0;32melif\u001b[0m \u001b[0mmode\u001b[0m \u001b[0;34m==\u001b[0m \u001b[0;34m'a'\u001b[0m\u001b[0;34m:\u001b[0m\u001b[0;34m\u001b[0m\u001b[0m\n\u001b[1;32m    150\u001b[0m         \u001b[0;31m# Open in append mode (read/write).\u001b[0m\u001b[0;34m\u001b[0m\u001b[0;34m\u001b[0m\u001b[0m\n",
      "\u001b[0;32mh5py/_objects.pyx\u001b[0m in \u001b[0;36mh5py._objects.with_phil.wrapper\u001b[0;34m()\u001b[0m\n",
      "\u001b[0;32mh5py/_objects.pyx\u001b[0m in \u001b[0;36mh5py._objects.with_phil.wrapper\u001b[0;34m()\u001b[0m\n",
      "\u001b[0;32mh5py/h5f.pyx\u001b[0m in \u001b[0;36mh5py.h5f.create\u001b[0;34m()\u001b[0m\n",
      "\u001b[0;31mOSError\u001b[0m: Unable to create file (unable to open file: name = '/srv/kkotochigov/JokeGenerator/model.h5', errno = 13, error message = 'Permission denied', flags = 13, o_flags = 242)"
     ]
    }
   ],
   "source": [
    "model.save(\"/srv/kkotochigov/JokeGenerator/model.h5\")"
   ]
  },
  {
   "cell_type": "code",
   "execution_count": 139,
   "metadata": {},
   "outputs": [
    {
     "ename": "NameError",
     "evalue": "name 'pickle' is not defined",
     "output_type": "error",
     "traceback": [
      "\u001b[0;31m---------------------------------------------------------------------------\u001b[0m",
      "\u001b[0;31mNameError\u001b[0m                                 Traceback (most recent call last)",
      "\u001b[0;32m<ipython-input-139-2ef83ef1e1a9>\u001b[0m in \u001b[0;36m<module>\u001b[0;34m()\u001b[0m\n\u001b[1;32m      5\u001b[0m \u001b[0;32melse\u001b[0m\u001b[0;34m:\u001b[0m\u001b[0;34m\u001b[0m\u001b[0m\n\u001b[1;32m      6\u001b[0m     \u001b[0;32mwith\u001b[0m \u001b[0mopen\u001b[0m\u001b[0;34m(\u001b[0m\u001b[0;34m\"/srv/aprosvetov/char_mapper.pickle\"\u001b[0m\u001b[0;34m,\u001b[0m\u001b[0;34m\"wb\"\u001b[0m\u001b[0;34m)\u001b[0m \u001b[0;32mas\u001b[0m \u001b[0mfile_handle\u001b[0m\u001b[0;34m:\u001b[0m\u001b[0;34m\u001b[0m\u001b[0m\n\u001b[0;32m----> 7\u001b[0;31m         \u001b[0mpickle\u001b[0m\u001b[0;34m.\u001b[0m\u001b[0mdump\u001b[0m\u001b[0;34m(\u001b[0m\u001b[0;34m(\u001b[0m\u001b[0mchar_to_int\u001b[0m\u001b[0;34m,\u001b[0m \u001b[0mint_to_char\u001b[0m\u001b[0;34m)\u001b[0m\u001b[0;34m,\u001b[0m \u001b[0mfile_hadle\u001b[0m\u001b[0;34m)\u001b[0m\u001b[0;34m\u001b[0m\u001b[0m\n\u001b[0m",
      "\u001b[0;31mNameError\u001b[0m: name 'pickle' is not defined"
     ]
    }
   ],
   "source": [
    "use_predefined_model = True\n",
    "if use_predefined_model:\n",
    "    with open(\"/srv/kkotochigov/char_mapper.pickle\",\"rb\") as file_handle:\n",
    "        char_to_int, int_to_char = pickle.load(file_handle)\n",
    "n_vocab = len(char_to_int)"
   ]
  },
  {
   "cell_type": "code",
   "execution_count": null,
   "metadata": {},
   "outputs": [],
   "source": [
    "# model.fit(X, y, epochs=50, batch_size=1024)"
   ]
  },
  {
   "cell_type": "markdown",
   "metadata": {},
   "source": [
    "Попробуем генерацию текста. Берем случайное начало текста, генерируем наиболее вероятный символ и добавляем его в результат (seq_in).\n",
    "\n",
    "Начальный текст должен быть ровно 100 символов маленькиими буквами."
   ]
  },
  {
   "cell_type": "markdown",
   "metadata": {},
   "source": [
    "Генерируемый символ выбираем не жадно, как в оригинале, а из двух наиболее веротяных"
   ]
  },
  {
   "cell_type": "code",
   "execution_count": 114,
   "metadata": {},
   "outputs": [],
   "source": [
    "def create_pattern(pattern):\n",
    "    return [char_to_int[x] for x in pattern.lower()[0:30]]\n",
    "\n",
    "def weighted_choice(choices):\n",
    "   total = sum(w for c, w in choices)\n",
    "   r = random.uniform(0, total)\n",
    "   upto = 0\n",
    "   for c, w in choices:\n",
    "      if upto + w >= r:\n",
    "         return c\n",
    "      upto += w\n",
    "   assert False, \"Shouldn't get here\"\n",
    "\n",
    "def generate(pattern, top_n=1):\n",
    "    i = 0\n",
    "    result = \"\"\n",
    "    result_text = ''\n",
    "    while (result != \"\\n\") and (i < 300):\n",
    "        x = numpy.reshape(pattern, (1, len(pattern), 1))\n",
    "        x = x / float(n_vocab)\n",
    "        prediction = model.predict(x, verbose=0)\n",
    "        if top_n == 1:\n",
    "            index = numpy.argmax(prediction)\n",
    "        else:\n",
    "            choices = sorted(list(zip(range(0,len(prediction[0])), prediction[0])), key=lambda x: -x[1])[0:top_n]\n",
    "            index = weighted_choice(choices)\n",
    "        result = int_to_char[index]\n",
    "        seq_in = [int_to_char[value] for value in pattern]\n",
    "        result_text += result\n",
    "        pattern.append(index)\n",
    "        pattern = pattern[1:len(pattern)]\n",
    "        i = i + 1\n",
    "    return result_text\n",
    "\n",
    "def write_pattern(pattern):\n",
    "    return \"\".join([int_to_char[x] for x in pattern])"
   ]
  },
  {
   "cell_type": "code",
   "execution_count": 165,
   "metadata": {},
   "outputs": [
    {
     "name": "stdout",
     "output_type": "stream",
     "text": [
      "***\n",
      "Чем больше женщину мы любим, так вот вы подошел с подругамом в карман и подошел с продавецами и послотривает в свою себе в стороны и старушки не просит стоит в своей доме и спать... \n",
      "\n"
     ]
    }
   ],
   "source": [
    "pattern = \"Чем больше женщину мы любим, т\"[-30:]\n",
    "pattern_int = create_pattern(pattern)\n",
    "print(\"***\")\n",
    "print(\"%s%s\" % (pattern, generate(pattern_int, top_n=2)))"
   ]
  },
  {
   "cell_type": "code",
   "execution_count": null,
   "metadata": {},
   "outputs": [],
   "source": []
  },
  {
   "cell_type": "code",
   "execution_count": null,
   "metadata": {},
   "outputs": [],
   "source": [
    "prediction_model = load(\"/srv/aprosvetov/model.h5\")"
   ]
  },
  {
   "cell_type": "code",
   "execution_count": 36,
   "metadata": {},
   "outputs": [
    {
     "data": {
      "text/plain": [
       "{0: '\\n',\n",
       " 1: ' ',\n",
       " 2: '!',\n",
       " 3: ',',\n",
       " 4: '-',\n",
       " 5: '.',\n",
       " 6: '0',\n",
       " 7: '1',\n",
       " 8: '2',\n",
       " 9: '3',\n",
       " 10: '4',\n",
       " 11: '5',\n",
       " 12: '6',\n",
       " 13: '7',\n",
       " 14: '8',\n",
       " 15: '9',\n",
       " 16: ':',\n",
       " 17: '?',\n",
       " 18: '_',\n",
       " 19: 'а',\n",
       " 20: 'б',\n",
       " 21: 'в',\n",
       " 22: 'г',\n",
       " 23: 'д',\n",
       " 24: 'е',\n",
       " 25: 'ж',\n",
       " 26: 'з',\n",
       " 27: 'и',\n",
       " 28: 'й',\n",
       " 29: 'к',\n",
       " 30: 'л',\n",
       " 31: 'м',\n",
       " 32: 'н',\n",
       " 33: 'о',\n",
       " 34: 'п',\n",
       " 35: 'р',\n",
       " 36: 'с',\n",
       " 37: 'т',\n",
       " 38: 'у',\n",
       " 39: 'ф',\n",
       " 40: 'х',\n",
       " 41: 'ц',\n",
       " 42: 'ч',\n",
       " 43: 'ш',\n",
       " 44: 'щ',\n",
       " 45: 'ъ',\n",
       " 46: 'ы',\n",
       " 47: 'ь',\n",
       " 48: 'э',\n",
       " 49: 'ю',\n",
       " 50: 'я'}"
      ]
     },
     "execution_count": 36,
     "metadata": {},
     "output_type": "execute_result"
    }
   ],
   "source": [
    "model.save(\"/srv/kkotochigov/model.h5\")"
   ]
  },
  {
   "cell_type": "code",
   "execution_count": 65,
   "metadata": {},
   "outputs": [
    {
     "data": {
      "text/plain": [
       "'приходит чукча к жене и говорит: - как же у тебя тут вальдшнепы снуют? - да не боись ты, они же ручн'"
      ]
     },
     "execution_count": 65,
     "metadata": {},
     "output_type": "execute_result"
    }
   ],
   "source": [
    "\"Приходит Чукча к жене и говорит: - Как же у тебя тут Вальдшнепы снуют? - Да не боись ты, они же ручные. \".lower()[0:100]"
   ]
  },
  {
   "cell_type": "code",
   "execution_count": 24,
   "metadata": {},
   "outputs": [],
   "source": []
  },
  {
   "cell_type": "markdown",
   "metadata": {},
   "source": [
    "### Несколько примеров того, что получается (1млн, 50 эпох)\n",
    "\n",
    "лучили приворили сосос по саком протто подошел и подходит к место:- нет, там вот в принере самого собирается в карме. после себя подоравляет самомату проверими подоворите.. ну, вот, не саком сако и сорашивает машину и сам возмущиноо проверил в сортоянееми и саком посом соррил в самомете, поставились и саког соросили в саком соварещ. подаегает к себе сак и спрашивает: - чего вы так волит??? нет, не понимаете, через положение он сам подходит к ней. - не понимаете, а ты подомой, а ты что вы на собой подовооете? - ну почему? - а вот в поле на себя прикосится на себя в постели. послошрет в коннату и говорит: - дорогой, тогда ято только что вы просто сак надо было подовоомись и сорашиние в постря в пострянени под соседним сорова соседа не понял, что ты придуать, что вы посом приходит в соседний саком делать начинает в карты и сак посом приходил в самомете.  подходит к мамьчику и говорит:  - ну, через некоторое время, на следующей день вовочка:  - да вот в картане подоворились.  - а что ты пр\n",
    "\n",
    "идется высотки и на себя в полоте последнее советского сортоб состива  - доктор, вы послотрел на саком соседе и сорашивает:  - а чего так вы не просто продолжили под состобными.  - а ты че ты не понять?  - да вот, на следующий день в какой постоя текель на солнаеенных простого полазать в самомет и придложит в состива... после теко не выделж в картане и сакого просто послолр просила после таког не привет, а потом сорашивают комес и сам на середь придласает по приворовини и сорадает и придласил просто последнее сак просит сорашивает: - что, вот только привотовили подоворите. просто придется на первый раз в состир. - не забора на полу и выпить. - а что вы подуматите проводить не полазывался? - а вот то ведь не подова, а вы не сорашиваете самое подоврожнения водитель на саботу пассажиры? - ну что же ты придомались? - нет, не понимаешь, на собой под дрргой подоврегается. - нет. не подовратим. посом просто сорроятносесте себе сам подоидать собирает подоможник. - ну что, на слочей вы не собет\n",
    "\n",
    "\n",
    "### длина = 30 символов\n",
    "приходит чукча к жене и говорит:- соади, конода придет на себя солько володу.  - на предртражини машение постоятно сак соращивает: - ну, что ты сеелать ведь не подертовали..\n",
    "\n",
    "так и что сказали вам, что если вы \n",
    "и вы подходите?  - ну, когда я воду не пришел сакой маланьким. \n",
    "***\n",
    "\n",
    "### На 10 млн обучено 36 эпох\n",
    "***\n",
    "Приходит муж в магазин и говор ит после состоит с собакой.  \n",
    "А что такое только получилось?  \n",
    "Ну тогда после него просит спрашивать, что вы просто спрашивают, что она последних стороны.  \n",
    "Ну, ты чего тогда в картошку? \n",
    "Да, понимаешь, когда вы пришли в старуи получилости и спросили, что она не положела.  \n",
    "Не знаю, что в старо\n",
    "***\n",
    "\n",
    "### 50 эпох\n",
    "***\n",
    "\n",
    "\n",
    "Приходит муж в магазин и говорит придет с надеждой: - ну что, не подумала меня...\n",
    "\n",
    "Приходит муж в магазин и говорит: - дорогой, ты что, такое волку представляет вовы водила с проблемами.\n",
    "\n",
    "Приходит муж в магазин и говорит: - да вот вы придумали старый домой и стоит в столовой под колени и поднимает в старой машину и говорит:  - ну, ты сколько меня не пришла? - да, но не волнуюшь на себя в кармане возникии в столовой под колнатом.\n",
    "\n",
    "***\n",
    "Возвращается муж из командировкя с половом мужийом проститутками. \n",
    "\n",
    "***\n",
    "Входит Чукча в юрту и говорит просто и продал с соседний дом и приходит с собачками и подходит к себе в себе в постель...\n",
    "\n"
   ]
  },
  {
   "cell_type": "code",
   "execution_count": null,
   "metadata": {},
   "outputs": [],
   "source": [
    "import numpy\n",
    "import pickle\n",
    "import random\n",
    "from keras.models import load_model\n",
    "\n",
    "model = load_model(\"/srv/kkotochigov/model.h5\")\n",
    "\n",
    "use_predefined_model = True\n",
    "if use_predefined_model:\n",
    "    with open(\"/srv/kkotochigov/char_mapper.pickle\",\"rb\") as file_handle:\n",
    "        char_to_int, int_to_char = pickle.load(file_handle)\n",
    "\n",
    "n_vocab = len(char_to_int)\n",
    "\n",
    "def create_pattern(pattern):\n",
    "    return [char_to_int[x] for x in pattern.lower()[0:30]]\n",
    "\n",
    "def weighted_choice(choices):\n",
    "   total = sum(w for c, w in choices)\n",
    "   r = random.uniform(0, total)\n",
    "   upto = 0\n",
    "   for c, w in choices:\n",
    "      if upto + w >= r:\n",
    "         return c\n",
    "      upto += w\n",
    "   assert False, \"Shouldn't get here\"\n",
    "\n",
    "def generate(pattern, top_n=1):\n",
    "    i = 0\n",
    "    result = \"\"\n",
    "    result_text = ''\n",
    "    while (result != \"\\n\") and (i < 300):\n",
    "        x = numpy.reshape(pattern, (1, len(pattern), 1))\n",
    "        x = x / float(n_vocab)\n",
    "        prediction = model.predict(x, verbose=0)\n",
    "        if top_n == 1:\n",
    "            index = numpy.argmax(prediction)\n",
    "        else:\n",
    "            choices = sorted(list(zip(range(0,len(prediction[0])), prediction[0])), key=lambda x: -x[1])[0:top_n]\n",
    "            index = weighted_choice(choices)\n",
    "        result = int_to_char[index]\n",
    "        seq_in = [int_to_char[value] for value in pattern]\n",
    "        result_text += result\n",
    "        pattern.append(index)\n",
    "        pattern = pattern[1:len(pattern)]\n",
    "        i = i + 1\n",
    "    return result_text\n",
    "\n",
    "def write_pattern(pattern):\n",
    "    return \"\".join([int_to_char[x] for x in pattern])\n",
    "\n",
    "pattern = \"Чем больше женщину мы любим, т\"[-30:]\n",
    "pattern_int = create_pattern(pattern)\n",
    "print(\"***\")\n",
    "print(\"%s%s\" % (pattern, generate(pattern_int, top_n=3)))"
   ]
  },
  {
   "cell_type": "code",
   "execution_count": null,
   "metadata": {},
   "outputs": [],
   "source": [
    "from flask import Flask\n",
    "app = Flask(__name__)\n",
    "from keras.models import load_model\n",
    "import random\n",
    "import numpy\n",
    "import pickle\n",
    "\n",
    "def @app.route(\"/generate/<start_text>\"):\n",
    "\n",
    "    model = load_model(\"/srv/kkotochigov/model.h5\")\n",
    "    use_predefined_model = True\n",
    "    if use_predefined_model:\n",
    "       with open(\"/srv/kkotochigov/char_mapper.pickle\",\"rb\") as file_handle:\n",
    "         char_to_int, int_to_char = pickle.load(file_handle)\n",
    "    n_vocab = len(char_to_int)\n",
    "\n",
    "    def create_pattern(pattern):\n",
    "        return [char_to_int[x] for x in pattern.lower()[0:30]]\n",
    "\n",
    "    def weighted_choice(choices):\n",
    "       total = sum(w for c, w in choices)\n",
    "       r = random.uniform(0, total)\n",
    "       upto = 0\n",
    "       for c, w in choices:\n",
    "          if upto + w >= r:\n",
    "             return c\n",
    "          upto += w\n",
    "       assert False, \"Shouldn't get here\"\n",
    "\n",
    "    def generate_text(pattern, top_n=1):\n",
    "        i = 0\n",
    "        result = \"\"\n",
    "        result_text = ''\n",
    "        while (result != \"\\n\") and (i < 300):\n",
    "            x = numpy.reshape(pattern, (1, len(pattern), 1))\n",
    "            x = x / float(n_vocab)\n",
    "            prediction = model.predict(x, verbose=0)\n",
    "            if top_n == 1:\n",
    "                index = numpy.argmax(prediction)\n",
    "            else:\n",
    "                choices = sorted(list(zip(range(0,len(prediction[0])), prediction[0])), key=lambda x: -x[1])[0:top_n]\n",
    "                index = weighted_choice(choices)\n",
    "            result = int_to_char[index]\n",
    "            seq_in = [int_to_char[value] for value in pattern]\n",
    "            result_text += result\n",
    "            pattern.append(index)\n",
    "            pattern = pattern[1:len(pattern)]\n",
    "            i = i + 1\n",
    "        return result_text\n",
    "\n",
    "    def write_pattern(pattern):\n",
    "        return \"\".join([int_to_char[x] for x in pattern])\n",
    "\n",
    "    start_text = \"Приходит муж домой и говорит жене\"\n",
    "    pattern = start_text[-30:]\n",
    "    pattern_int = create_pattern(pattern)\n",
    "    generated = \"%s%s\" % (pattern, generate_text(pattern_int, top_n=3))\n",
    "\n",
    "    return generated\n"
   ]
  }
 ],
 "metadata": {
  "kernelspec": {
   "display_name": "Python 3",
   "language": "python",
   "name": "python3"
  },
  "language_info": {
   "codemirror_mode": {
    "name": "ipython",
    "version": 3
   },
   "file_extension": ".py",
   "mimetype": "text/x-python",
   "name": "python",
   "nbconvert_exporter": "python",
   "pygments_lexer": "ipython3",
   "version": "3.5.2"
  }
 },
 "nbformat": 4,
 "nbformat_minor": 2
}
